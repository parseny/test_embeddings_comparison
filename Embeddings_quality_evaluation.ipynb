{
  "nbformat": 4,
  "nbformat_minor": 0,
  "metadata": {
    "colab": {
      "provenance": [],
      "gpuType": "T4"
    },
    "kernelspec": {
      "name": "python3",
      "display_name": "Python 3"
    },
    "language_info": {
      "name": "python"
    },
    "accelerator": "GPU",
    "widgets": {
      "application/vnd.jupyter.widget-state+json": {
        "67d832bdb6b0432396095340513baafa": {
          "model_module": "@jupyter-widgets/controls",
          "model_name": "HBoxModel",
          "model_module_version": "1.5.0",
          "state": {
            "_dom_classes": [],
            "_model_module": "@jupyter-widgets/controls",
            "_model_module_version": "1.5.0",
            "_model_name": "HBoxModel",
            "_view_count": null,
            "_view_module": "@jupyter-widgets/controls",
            "_view_module_version": "1.5.0",
            "_view_name": "HBoxView",
            "box_style": "",
            "children": [
              "IPY_MODEL_de117fe0b4a74d748113536bf9fd3b0e",
              "IPY_MODEL_537e377959aa4bb3bedd63b8770e2c95",
              "IPY_MODEL_2d64ca70518f4d0d8bc92ac96672c4d1"
            ],
            "layout": "IPY_MODEL_de175855749f4577b8d00854fe7d18fa"
          }
        },
        "de117fe0b4a74d748113536bf9fd3b0e": {
          "model_module": "@jupyter-widgets/controls",
          "model_name": "HTMLModel",
          "model_module_version": "1.5.0",
          "state": {
            "_dom_classes": [],
            "_model_module": "@jupyter-widgets/controls",
            "_model_module_version": "1.5.0",
            "_model_name": "HTMLModel",
            "_view_count": null,
            "_view_module": "@jupyter-widgets/controls",
            "_view_module_version": "1.5.0",
            "_view_name": "HTMLView",
            "description": "",
            "description_tooltip": null,
            "layout": "IPY_MODEL_dfc3eb303e2540f0afd87a9aa300410c",
            "placeholder": "​",
            "style": "IPY_MODEL_7e2f1cd64df340a2b0ef847ca5bd1276",
            "value": "Downloading (…)solve/main/vocab.txt: 100%"
          }
        },
        "537e377959aa4bb3bedd63b8770e2c95": {
          "model_module": "@jupyter-widgets/controls",
          "model_name": "FloatProgressModel",
          "model_module_version": "1.5.0",
          "state": {
            "_dom_classes": [],
            "_model_module": "@jupyter-widgets/controls",
            "_model_module_version": "1.5.0",
            "_model_name": "FloatProgressModel",
            "_view_count": null,
            "_view_module": "@jupyter-widgets/controls",
            "_view_module_version": "1.5.0",
            "_view_name": "ProgressView",
            "bar_style": "success",
            "description": "",
            "description_tooltip": null,
            "layout": "IPY_MODEL_158bd3dbcc2945f2956a51d48ef2361d",
            "max": 231508,
            "min": 0,
            "orientation": "horizontal",
            "style": "IPY_MODEL_34bdab3e5f0d4784af0a5d74a233f6ff",
            "value": 231508
          }
        },
        "2d64ca70518f4d0d8bc92ac96672c4d1": {
          "model_module": "@jupyter-widgets/controls",
          "model_name": "HTMLModel",
          "model_module_version": "1.5.0",
          "state": {
            "_dom_classes": [],
            "_model_module": "@jupyter-widgets/controls",
            "_model_module_version": "1.5.0",
            "_model_name": "HTMLModel",
            "_view_count": null,
            "_view_module": "@jupyter-widgets/controls",
            "_view_module_version": "1.5.0",
            "_view_name": "HTMLView",
            "description": "",
            "description_tooltip": null,
            "layout": "IPY_MODEL_5b4820f34a8140e38caf4f91fd37ddbc",
            "placeholder": "​",
            "style": "IPY_MODEL_84e36423451049e7a3b7106a64b00280",
            "value": " 232k/232k [00:00&lt;00:00, 1.79MB/s]"
          }
        },
        "de175855749f4577b8d00854fe7d18fa": {
          "model_module": "@jupyter-widgets/base",
          "model_name": "LayoutModel",
          "model_module_version": "1.2.0",
          "state": {
            "_model_module": "@jupyter-widgets/base",
            "_model_module_version": "1.2.0",
            "_model_name": "LayoutModel",
            "_view_count": null,
            "_view_module": "@jupyter-widgets/base",
            "_view_module_version": "1.2.0",
            "_view_name": "LayoutView",
            "align_content": null,
            "align_items": null,
            "align_self": null,
            "border": null,
            "bottom": null,
            "display": null,
            "flex": null,
            "flex_flow": null,
            "grid_area": null,
            "grid_auto_columns": null,
            "grid_auto_flow": null,
            "grid_auto_rows": null,
            "grid_column": null,
            "grid_gap": null,
            "grid_row": null,
            "grid_template_areas": null,
            "grid_template_columns": null,
            "grid_template_rows": null,
            "height": null,
            "justify_content": null,
            "justify_items": null,
            "left": null,
            "margin": null,
            "max_height": null,
            "max_width": null,
            "min_height": null,
            "min_width": null,
            "object_fit": null,
            "object_position": null,
            "order": null,
            "overflow": null,
            "overflow_x": null,
            "overflow_y": null,
            "padding": null,
            "right": null,
            "top": null,
            "visibility": null,
            "width": null
          }
        },
        "dfc3eb303e2540f0afd87a9aa300410c": {
          "model_module": "@jupyter-widgets/base",
          "model_name": "LayoutModel",
          "model_module_version": "1.2.0",
          "state": {
            "_model_module": "@jupyter-widgets/base",
            "_model_module_version": "1.2.0",
            "_model_name": "LayoutModel",
            "_view_count": null,
            "_view_module": "@jupyter-widgets/base",
            "_view_module_version": "1.2.0",
            "_view_name": "LayoutView",
            "align_content": null,
            "align_items": null,
            "align_self": null,
            "border": null,
            "bottom": null,
            "display": null,
            "flex": null,
            "flex_flow": null,
            "grid_area": null,
            "grid_auto_columns": null,
            "grid_auto_flow": null,
            "grid_auto_rows": null,
            "grid_column": null,
            "grid_gap": null,
            "grid_row": null,
            "grid_template_areas": null,
            "grid_template_columns": null,
            "grid_template_rows": null,
            "height": null,
            "justify_content": null,
            "justify_items": null,
            "left": null,
            "margin": null,
            "max_height": null,
            "max_width": null,
            "min_height": null,
            "min_width": null,
            "object_fit": null,
            "object_position": null,
            "order": null,
            "overflow": null,
            "overflow_x": null,
            "overflow_y": null,
            "padding": null,
            "right": null,
            "top": null,
            "visibility": null,
            "width": null
          }
        },
        "7e2f1cd64df340a2b0ef847ca5bd1276": {
          "model_module": "@jupyter-widgets/controls",
          "model_name": "DescriptionStyleModel",
          "model_module_version": "1.5.0",
          "state": {
            "_model_module": "@jupyter-widgets/controls",
            "_model_module_version": "1.5.0",
            "_model_name": "DescriptionStyleModel",
            "_view_count": null,
            "_view_module": "@jupyter-widgets/base",
            "_view_module_version": "1.2.0",
            "_view_name": "StyleView",
            "description_width": ""
          }
        },
        "158bd3dbcc2945f2956a51d48ef2361d": {
          "model_module": "@jupyter-widgets/base",
          "model_name": "LayoutModel",
          "model_module_version": "1.2.0",
          "state": {
            "_model_module": "@jupyter-widgets/base",
            "_model_module_version": "1.2.0",
            "_model_name": "LayoutModel",
            "_view_count": null,
            "_view_module": "@jupyter-widgets/base",
            "_view_module_version": "1.2.0",
            "_view_name": "LayoutView",
            "align_content": null,
            "align_items": null,
            "align_self": null,
            "border": null,
            "bottom": null,
            "display": null,
            "flex": null,
            "flex_flow": null,
            "grid_area": null,
            "grid_auto_columns": null,
            "grid_auto_flow": null,
            "grid_auto_rows": null,
            "grid_column": null,
            "grid_gap": null,
            "grid_row": null,
            "grid_template_areas": null,
            "grid_template_columns": null,
            "grid_template_rows": null,
            "height": null,
            "justify_content": null,
            "justify_items": null,
            "left": null,
            "margin": null,
            "max_height": null,
            "max_width": null,
            "min_height": null,
            "min_width": null,
            "object_fit": null,
            "object_position": null,
            "order": null,
            "overflow": null,
            "overflow_x": null,
            "overflow_y": null,
            "padding": null,
            "right": null,
            "top": null,
            "visibility": null,
            "width": null
          }
        },
        "34bdab3e5f0d4784af0a5d74a233f6ff": {
          "model_module": "@jupyter-widgets/controls",
          "model_name": "ProgressStyleModel",
          "model_module_version": "1.5.0",
          "state": {
            "_model_module": "@jupyter-widgets/controls",
            "_model_module_version": "1.5.0",
            "_model_name": "ProgressStyleModel",
            "_view_count": null,
            "_view_module": "@jupyter-widgets/base",
            "_view_module_version": "1.2.0",
            "_view_name": "StyleView",
            "bar_color": null,
            "description_width": ""
          }
        },
        "5b4820f34a8140e38caf4f91fd37ddbc": {
          "model_module": "@jupyter-widgets/base",
          "model_name": "LayoutModel",
          "model_module_version": "1.2.0",
          "state": {
            "_model_module": "@jupyter-widgets/base",
            "_model_module_version": "1.2.0",
            "_model_name": "LayoutModel",
            "_view_count": null,
            "_view_module": "@jupyter-widgets/base",
            "_view_module_version": "1.2.0",
            "_view_name": "LayoutView",
            "align_content": null,
            "align_items": null,
            "align_self": null,
            "border": null,
            "bottom": null,
            "display": null,
            "flex": null,
            "flex_flow": null,
            "grid_area": null,
            "grid_auto_columns": null,
            "grid_auto_flow": null,
            "grid_auto_rows": null,
            "grid_column": null,
            "grid_gap": null,
            "grid_row": null,
            "grid_template_areas": null,
            "grid_template_columns": null,
            "grid_template_rows": null,
            "height": null,
            "justify_content": null,
            "justify_items": null,
            "left": null,
            "margin": null,
            "max_height": null,
            "max_width": null,
            "min_height": null,
            "min_width": null,
            "object_fit": null,
            "object_position": null,
            "order": null,
            "overflow": null,
            "overflow_x": null,
            "overflow_y": null,
            "padding": null,
            "right": null,
            "top": null,
            "visibility": null,
            "width": null
          }
        },
        "84e36423451049e7a3b7106a64b00280": {
          "model_module": "@jupyter-widgets/controls",
          "model_name": "DescriptionStyleModel",
          "model_module_version": "1.5.0",
          "state": {
            "_model_module": "@jupyter-widgets/controls",
            "_model_module_version": "1.5.0",
            "_model_name": "DescriptionStyleModel",
            "_view_count": null,
            "_view_module": "@jupyter-widgets/base",
            "_view_module_version": "1.2.0",
            "_view_name": "StyleView",
            "description_width": ""
          }
        },
        "96bb561c4d4c45fba6b3ed0fcca0fd0f": {
          "model_module": "@jupyter-widgets/controls",
          "model_name": "HBoxModel",
          "model_module_version": "1.5.0",
          "state": {
            "_dom_classes": [],
            "_model_module": "@jupyter-widgets/controls",
            "_model_module_version": "1.5.0",
            "_model_name": "HBoxModel",
            "_view_count": null,
            "_view_module": "@jupyter-widgets/controls",
            "_view_module_version": "1.5.0",
            "_view_name": "HBoxView",
            "box_style": "",
            "children": [
              "IPY_MODEL_d2ce3871148449a498ba74332f17d0d8",
              "IPY_MODEL_3975e9c18cb04e28bf3e4aa91072268e",
              "IPY_MODEL_7e925891178c48eeab5608b040fc14a7"
            ],
            "layout": "IPY_MODEL_eee67953840f479f8e735af31bacc2c6"
          }
        },
        "d2ce3871148449a498ba74332f17d0d8": {
          "model_module": "@jupyter-widgets/controls",
          "model_name": "HTMLModel",
          "model_module_version": "1.5.0",
          "state": {
            "_dom_classes": [],
            "_model_module": "@jupyter-widgets/controls",
            "_model_module_version": "1.5.0",
            "_model_name": "HTMLModel",
            "_view_count": null,
            "_view_module": "@jupyter-widgets/controls",
            "_view_module_version": "1.5.0",
            "_view_name": "HTMLView",
            "description": "",
            "description_tooltip": null,
            "layout": "IPY_MODEL_7d36f557936642e4b2ca00e9f8a18cb8",
            "placeholder": "​",
            "style": "IPY_MODEL_26631c3fcf344067925da60b635c8878",
            "value": "Downloading (…)okenizer_config.json: 100%"
          }
        },
        "3975e9c18cb04e28bf3e4aa91072268e": {
          "model_module": "@jupyter-widgets/controls",
          "model_name": "FloatProgressModel",
          "model_module_version": "1.5.0",
          "state": {
            "_dom_classes": [],
            "_model_module": "@jupyter-widgets/controls",
            "_model_module_version": "1.5.0",
            "_model_name": "FloatProgressModel",
            "_view_count": null,
            "_view_module": "@jupyter-widgets/controls",
            "_view_module_version": "1.5.0",
            "_view_name": "ProgressView",
            "bar_style": "success",
            "description": "",
            "description_tooltip": null,
            "layout": "IPY_MODEL_d963e18a8eda4a1ba199d129097e9faf",
            "max": 28,
            "min": 0,
            "orientation": "horizontal",
            "style": "IPY_MODEL_33525aa6b449421ba3762a29b6d75784",
            "value": 28
          }
        },
        "7e925891178c48eeab5608b040fc14a7": {
          "model_module": "@jupyter-widgets/controls",
          "model_name": "HTMLModel",
          "model_module_version": "1.5.0",
          "state": {
            "_dom_classes": [],
            "_model_module": "@jupyter-widgets/controls",
            "_model_module_version": "1.5.0",
            "_model_name": "HTMLModel",
            "_view_count": null,
            "_view_module": "@jupyter-widgets/controls",
            "_view_module_version": "1.5.0",
            "_view_name": "HTMLView",
            "description": "",
            "description_tooltip": null,
            "layout": "IPY_MODEL_a3881aa1c3f64f6aa2a617a51edcee15",
            "placeholder": "​",
            "style": "IPY_MODEL_47e482c7707f492385e5514480087574",
            "value": " 28.0/28.0 [00:00&lt;00:00, 1.16kB/s]"
          }
        },
        "eee67953840f479f8e735af31bacc2c6": {
          "model_module": "@jupyter-widgets/base",
          "model_name": "LayoutModel",
          "model_module_version": "1.2.0",
          "state": {
            "_model_module": "@jupyter-widgets/base",
            "_model_module_version": "1.2.0",
            "_model_name": "LayoutModel",
            "_view_count": null,
            "_view_module": "@jupyter-widgets/base",
            "_view_module_version": "1.2.0",
            "_view_name": "LayoutView",
            "align_content": null,
            "align_items": null,
            "align_self": null,
            "border": null,
            "bottom": null,
            "display": null,
            "flex": null,
            "flex_flow": null,
            "grid_area": null,
            "grid_auto_columns": null,
            "grid_auto_flow": null,
            "grid_auto_rows": null,
            "grid_column": null,
            "grid_gap": null,
            "grid_row": null,
            "grid_template_areas": null,
            "grid_template_columns": null,
            "grid_template_rows": null,
            "height": null,
            "justify_content": null,
            "justify_items": null,
            "left": null,
            "margin": null,
            "max_height": null,
            "max_width": null,
            "min_height": null,
            "min_width": null,
            "object_fit": null,
            "object_position": null,
            "order": null,
            "overflow": null,
            "overflow_x": null,
            "overflow_y": null,
            "padding": null,
            "right": null,
            "top": null,
            "visibility": null,
            "width": null
          }
        },
        "7d36f557936642e4b2ca00e9f8a18cb8": {
          "model_module": "@jupyter-widgets/base",
          "model_name": "LayoutModel",
          "model_module_version": "1.2.0",
          "state": {
            "_model_module": "@jupyter-widgets/base",
            "_model_module_version": "1.2.0",
            "_model_name": "LayoutModel",
            "_view_count": null,
            "_view_module": "@jupyter-widgets/base",
            "_view_module_version": "1.2.0",
            "_view_name": "LayoutView",
            "align_content": null,
            "align_items": null,
            "align_self": null,
            "border": null,
            "bottom": null,
            "display": null,
            "flex": null,
            "flex_flow": null,
            "grid_area": null,
            "grid_auto_columns": null,
            "grid_auto_flow": null,
            "grid_auto_rows": null,
            "grid_column": null,
            "grid_gap": null,
            "grid_row": null,
            "grid_template_areas": null,
            "grid_template_columns": null,
            "grid_template_rows": null,
            "height": null,
            "justify_content": null,
            "justify_items": null,
            "left": null,
            "margin": null,
            "max_height": null,
            "max_width": null,
            "min_height": null,
            "min_width": null,
            "object_fit": null,
            "object_position": null,
            "order": null,
            "overflow": null,
            "overflow_x": null,
            "overflow_y": null,
            "padding": null,
            "right": null,
            "top": null,
            "visibility": null,
            "width": null
          }
        },
        "26631c3fcf344067925da60b635c8878": {
          "model_module": "@jupyter-widgets/controls",
          "model_name": "DescriptionStyleModel",
          "model_module_version": "1.5.0",
          "state": {
            "_model_module": "@jupyter-widgets/controls",
            "_model_module_version": "1.5.0",
            "_model_name": "DescriptionStyleModel",
            "_view_count": null,
            "_view_module": "@jupyter-widgets/base",
            "_view_module_version": "1.2.0",
            "_view_name": "StyleView",
            "description_width": ""
          }
        },
        "d963e18a8eda4a1ba199d129097e9faf": {
          "model_module": "@jupyter-widgets/base",
          "model_name": "LayoutModel",
          "model_module_version": "1.2.0",
          "state": {
            "_model_module": "@jupyter-widgets/base",
            "_model_module_version": "1.2.0",
            "_model_name": "LayoutModel",
            "_view_count": null,
            "_view_module": "@jupyter-widgets/base",
            "_view_module_version": "1.2.0",
            "_view_name": "LayoutView",
            "align_content": null,
            "align_items": null,
            "align_self": null,
            "border": null,
            "bottom": null,
            "display": null,
            "flex": null,
            "flex_flow": null,
            "grid_area": null,
            "grid_auto_columns": null,
            "grid_auto_flow": null,
            "grid_auto_rows": null,
            "grid_column": null,
            "grid_gap": null,
            "grid_row": null,
            "grid_template_areas": null,
            "grid_template_columns": null,
            "grid_template_rows": null,
            "height": null,
            "justify_content": null,
            "justify_items": null,
            "left": null,
            "margin": null,
            "max_height": null,
            "max_width": null,
            "min_height": null,
            "min_width": null,
            "object_fit": null,
            "object_position": null,
            "order": null,
            "overflow": null,
            "overflow_x": null,
            "overflow_y": null,
            "padding": null,
            "right": null,
            "top": null,
            "visibility": null,
            "width": null
          }
        },
        "33525aa6b449421ba3762a29b6d75784": {
          "model_module": "@jupyter-widgets/controls",
          "model_name": "ProgressStyleModel",
          "model_module_version": "1.5.0",
          "state": {
            "_model_module": "@jupyter-widgets/controls",
            "_model_module_version": "1.5.0",
            "_model_name": "ProgressStyleModel",
            "_view_count": null,
            "_view_module": "@jupyter-widgets/base",
            "_view_module_version": "1.2.0",
            "_view_name": "StyleView",
            "bar_color": null,
            "description_width": ""
          }
        },
        "a3881aa1c3f64f6aa2a617a51edcee15": {
          "model_module": "@jupyter-widgets/base",
          "model_name": "LayoutModel",
          "model_module_version": "1.2.0",
          "state": {
            "_model_module": "@jupyter-widgets/base",
            "_model_module_version": "1.2.0",
            "_model_name": "LayoutModel",
            "_view_count": null,
            "_view_module": "@jupyter-widgets/base",
            "_view_module_version": "1.2.0",
            "_view_name": "LayoutView",
            "align_content": null,
            "align_items": null,
            "align_self": null,
            "border": null,
            "bottom": null,
            "display": null,
            "flex": null,
            "flex_flow": null,
            "grid_area": null,
            "grid_auto_columns": null,
            "grid_auto_flow": null,
            "grid_auto_rows": null,
            "grid_column": null,
            "grid_gap": null,
            "grid_row": null,
            "grid_template_areas": null,
            "grid_template_columns": null,
            "grid_template_rows": null,
            "height": null,
            "justify_content": null,
            "justify_items": null,
            "left": null,
            "margin": null,
            "max_height": null,
            "max_width": null,
            "min_height": null,
            "min_width": null,
            "object_fit": null,
            "object_position": null,
            "order": null,
            "overflow": null,
            "overflow_x": null,
            "overflow_y": null,
            "padding": null,
            "right": null,
            "top": null,
            "visibility": null,
            "width": null
          }
        },
        "47e482c7707f492385e5514480087574": {
          "model_module": "@jupyter-widgets/controls",
          "model_name": "DescriptionStyleModel",
          "model_module_version": "1.5.0",
          "state": {
            "_model_module": "@jupyter-widgets/controls",
            "_model_module_version": "1.5.0",
            "_model_name": "DescriptionStyleModel",
            "_view_count": null,
            "_view_module": "@jupyter-widgets/base",
            "_view_module_version": "1.2.0",
            "_view_name": "StyleView",
            "description_width": ""
          }
        },
        "abdff0f4ceed41bb946791dd05cf0587": {
          "model_module": "@jupyter-widgets/controls",
          "model_name": "HBoxModel",
          "model_module_version": "1.5.0",
          "state": {
            "_dom_classes": [],
            "_model_module": "@jupyter-widgets/controls",
            "_model_module_version": "1.5.0",
            "_model_name": "HBoxModel",
            "_view_count": null,
            "_view_module": "@jupyter-widgets/controls",
            "_view_module_version": "1.5.0",
            "_view_name": "HBoxView",
            "box_style": "",
            "children": [
              "IPY_MODEL_6c102be960fa43059fb02c1adaec6994",
              "IPY_MODEL_82a1661345ae46d18eecf6a01193cb82",
              "IPY_MODEL_ac3a434ecc9740e0bd495cca3bc0376e"
            ],
            "layout": "IPY_MODEL_6b860fbe45a145778caab22f87406c2a"
          }
        },
        "6c102be960fa43059fb02c1adaec6994": {
          "model_module": "@jupyter-widgets/controls",
          "model_name": "HTMLModel",
          "model_module_version": "1.5.0",
          "state": {
            "_dom_classes": [],
            "_model_module": "@jupyter-widgets/controls",
            "_model_module_version": "1.5.0",
            "_model_name": "HTMLModel",
            "_view_count": null,
            "_view_module": "@jupyter-widgets/controls",
            "_view_module_version": "1.5.0",
            "_view_name": "HTMLView",
            "description": "",
            "description_tooltip": null,
            "layout": "IPY_MODEL_8568b5557fed4e55b9ef132c1915afc0",
            "placeholder": "​",
            "style": "IPY_MODEL_7f3af8edb35e45caa17d9ebc21ad062f",
            "value": "Downloading (…)lve/main/config.json: 100%"
          }
        },
        "82a1661345ae46d18eecf6a01193cb82": {
          "model_module": "@jupyter-widgets/controls",
          "model_name": "FloatProgressModel",
          "model_module_version": "1.5.0",
          "state": {
            "_dom_classes": [],
            "_model_module": "@jupyter-widgets/controls",
            "_model_module_version": "1.5.0",
            "_model_name": "FloatProgressModel",
            "_view_count": null,
            "_view_module": "@jupyter-widgets/controls",
            "_view_module_version": "1.5.0",
            "_view_name": "ProgressView",
            "bar_style": "success",
            "description": "",
            "description_tooltip": null,
            "layout": "IPY_MODEL_8b0503c958e2412b8abdcb7d49178984",
            "max": 483,
            "min": 0,
            "orientation": "horizontal",
            "style": "IPY_MODEL_b7e6a00be2864e4cb26cc2d322b939dd",
            "value": 483
          }
        },
        "ac3a434ecc9740e0bd495cca3bc0376e": {
          "model_module": "@jupyter-widgets/controls",
          "model_name": "HTMLModel",
          "model_module_version": "1.5.0",
          "state": {
            "_dom_classes": [],
            "_model_module": "@jupyter-widgets/controls",
            "_model_module_version": "1.5.0",
            "_model_name": "HTMLModel",
            "_view_count": null,
            "_view_module": "@jupyter-widgets/controls",
            "_view_module_version": "1.5.0",
            "_view_name": "HTMLView",
            "description": "",
            "description_tooltip": null,
            "layout": "IPY_MODEL_4400d2c9e6f3463b91f43c2c540269ea",
            "placeholder": "​",
            "style": "IPY_MODEL_48e8dee75f1b4e1a9aceb105d966841d",
            "value": " 483/483 [00:00&lt;00:00, 26.9kB/s]"
          }
        },
        "6b860fbe45a145778caab22f87406c2a": {
          "model_module": "@jupyter-widgets/base",
          "model_name": "LayoutModel",
          "model_module_version": "1.2.0",
          "state": {
            "_model_module": "@jupyter-widgets/base",
            "_model_module_version": "1.2.0",
            "_model_name": "LayoutModel",
            "_view_count": null,
            "_view_module": "@jupyter-widgets/base",
            "_view_module_version": "1.2.0",
            "_view_name": "LayoutView",
            "align_content": null,
            "align_items": null,
            "align_self": null,
            "border": null,
            "bottom": null,
            "display": null,
            "flex": null,
            "flex_flow": null,
            "grid_area": null,
            "grid_auto_columns": null,
            "grid_auto_flow": null,
            "grid_auto_rows": null,
            "grid_column": null,
            "grid_gap": null,
            "grid_row": null,
            "grid_template_areas": null,
            "grid_template_columns": null,
            "grid_template_rows": null,
            "height": null,
            "justify_content": null,
            "justify_items": null,
            "left": null,
            "margin": null,
            "max_height": null,
            "max_width": null,
            "min_height": null,
            "min_width": null,
            "object_fit": null,
            "object_position": null,
            "order": null,
            "overflow": null,
            "overflow_x": null,
            "overflow_y": null,
            "padding": null,
            "right": null,
            "top": null,
            "visibility": null,
            "width": null
          }
        },
        "8568b5557fed4e55b9ef132c1915afc0": {
          "model_module": "@jupyter-widgets/base",
          "model_name": "LayoutModel",
          "model_module_version": "1.2.0",
          "state": {
            "_model_module": "@jupyter-widgets/base",
            "_model_module_version": "1.2.0",
            "_model_name": "LayoutModel",
            "_view_count": null,
            "_view_module": "@jupyter-widgets/base",
            "_view_module_version": "1.2.0",
            "_view_name": "LayoutView",
            "align_content": null,
            "align_items": null,
            "align_self": null,
            "border": null,
            "bottom": null,
            "display": null,
            "flex": null,
            "flex_flow": null,
            "grid_area": null,
            "grid_auto_columns": null,
            "grid_auto_flow": null,
            "grid_auto_rows": null,
            "grid_column": null,
            "grid_gap": null,
            "grid_row": null,
            "grid_template_areas": null,
            "grid_template_columns": null,
            "grid_template_rows": null,
            "height": null,
            "justify_content": null,
            "justify_items": null,
            "left": null,
            "margin": null,
            "max_height": null,
            "max_width": null,
            "min_height": null,
            "min_width": null,
            "object_fit": null,
            "object_position": null,
            "order": null,
            "overflow": null,
            "overflow_x": null,
            "overflow_y": null,
            "padding": null,
            "right": null,
            "top": null,
            "visibility": null,
            "width": null
          }
        },
        "7f3af8edb35e45caa17d9ebc21ad062f": {
          "model_module": "@jupyter-widgets/controls",
          "model_name": "DescriptionStyleModel",
          "model_module_version": "1.5.0",
          "state": {
            "_model_module": "@jupyter-widgets/controls",
            "_model_module_version": "1.5.0",
            "_model_name": "DescriptionStyleModel",
            "_view_count": null,
            "_view_module": "@jupyter-widgets/base",
            "_view_module_version": "1.2.0",
            "_view_name": "StyleView",
            "description_width": ""
          }
        },
        "8b0503c958e2412b8abdcb7d49178984": {
          "model_module": "@jupyter-widgets/base",
          "model_name": "LayoutModel",
          "model_module_version": "1.2.0",
          "state": {
            "_model_module": "@jupyter-widgets/base",
            "_model_module_version": "1.2.0",
            "_model_name": "LayoutModel",
            "_view_count": null,
            "_view_module": "@jupyter-widgets/base",
            "_view_module_version": "1.2.0",
            "_view_name": "LayoutView",
            "align_content": null,
            "align_items": null,
            "align_self": null,
            "border": null,
            "bottom": null,
            "display": null,
            "flex": null,
            "flex_flow": null,
            "grid_area": null,
            "grid_auto_columns": null,
            "grid_auto_flow": null,
            "grid_auto_rows": null,
            "grid_column": null,
            "grid_gap": null,
            "grid_row": null,
            "grid_template_areas": null,
            "grid_template_columns": null,
            "grid_template_rows": null,
            "height": null,
            "justify_content": null,
            "justify_items": null,
            "left": null,
            "margin": null,
            "max_height": null,
            "max_width": null,
            "min_height": null,
            "min_width": null,
            "object_fit": null,
            "object_position": null,
            "order": null,
            "overflow": null,
            "overflow_x": null,
            "overflow_y": null,
            "padding": null,
            "right": null,
            "top": null,
            "visibility": null,
            "width": null
          }
        },
        "b7e6a00be2864e4cb26cc2d322b939dd": {
          "model_module": "@jupyter-widgets/controls",
          "model_name": "ProgressStyleModel",
          "model_module_version": "1.5.0",
          "state": {
            "_model_module": "@jupyter-widgets/controls",
            "_model_module_version": "1.5.0",
            "_model_name": "ProgressStyleModel",
            "_view_count": null,
            "_view_module": "@jupyter-widgets/base",
            "_view_module_version": "1.2.0",
            "_view_name": "StyleView",
            "bar_color": null,
            "description_width": ""
          }
        },
        "4400d2c9e6f3463b91f43c2c540269ea": {
          "model_module": "@jupyter-widgets/base",
          "model_name": "LayoutModel",
          "model_module_version": "1.2.0",
          "state": {
            "_model_module": "@jupyter-widgets/base",
            "_model_module_version": "1.2.0",
            "_model_name": "LayoutModel",
            "_view_count": null,
            "_view_module": "@jupyter-widgets/base",
            "_view_module_version": "1.2.0",
            "_view_name": "LayoutView",
            "align_content": null,
            "align_items": null,
            "align_self": null,
            "border": null,
            "bottom": null,
            "display": null,
            "flex": null,
            "flex_flow": null,
            "grid_area": null,
            "grid_auto_columns": null,
            "grid_auto_flow": null,
            "grid_auto_rows": null,
            "grid_column": null,
            "grid_gap": null,
            "grid_row": null,
            "grid_template_areas": null,
            "grid_template_columns": null,
            "grid_template_rows": null,
            "height": null,
            "justify_content": null,
            "justify_items": null,
            "left": null,
            "margin": null,
            "max_height": null,
            "max_width": null,
            "min_height": null,
            "min_width": null,
            "object_fit": null,
            "object_position": null,
            "order": null,
            "overflow": null,
            "overflow_x": null,
            "overflow_y": null,
            "padding": null,
            "right": null,
            "top": null,
            "visibility": null,
            "width": null
          }
        },
        "48e8dee75f1b4e1a9aceb105d966841d": {
          "model_module": "@jupyter-widgets/controls",
          "model_name": "DescriptionStyleModel",
          "model_module_version": "1.5.0",
          "state": {
            "_model_module": "@jupyter-widgets/controls",
            "_model_module_version": "1.5.0",
            "_model_name": "DescriptionStyleModel",
            "_view_count": null,
            "_view_module": "@jupyter-widgets/base",
            "_view_module_version": "1.2.0",
            "_view_name": "StyleView",
            "description_width": ""
          }
        },
        "09409ecc39f843d5b00a170f7461db00": {
          "model_module": "@jupyter-widgets/controls",
          "model_name": "HBoxModel",
          "model_module_version": "1.5.0",
          "state": {
            "_dom_classes": [],
            "_model_module": "@jupyter-widgets/controls",
            "_model_module_version": "1.5.0",
            "_model_name": "HBoxModel",
            "_view_count": null,
            "_view_module": "@jupyter-widgets/controls",
            "_view_module_version": "1.5.0",
            "_view_name": "HBoxView",
            "box_style": "",
            "children": [
              "IPY_MODEL_fb3c513762e24b7091017ac40f916a41",
              "IPY_MODEL_c43b5cf2f6554656bf0107cd4bb456c1",
              "IPY_MODEL_ad9e1df189e146338eab7ee6e9d01f01"
            ],
            "layout": "IPY_MODEL_ac2fa42b94174922a81a0a0808973a48"
          }
        },
        "fb3c513762e24b7091017ac40f916a41": {
          "model_module": "@jupyter-widgets/controls",
          "model_name": "HTMLModel",
          "model_module_version": "1.5.0",
          "state": {
            "_dom_classes": [],
            "_model_module": "@jupyter-widgets/controls",
            "_model_module_version": "1.5.0",
            "_model_name": "HTMLModel",
            "_view_count": null,
            "_view_module": "@jupyter-widgets/controls",
            "_view_module_version": "1.5.0",
            "_view_name": "HTMLView",
            "description": "",
            "description_tooltip": null,
            "layout": "IPY_MODEL_9faa874396694a78a9b5724ef9e1ed41",
            "placeholder": "​",
            "style": "IPY_MODEL_1c688ad249ce479fbfd180b8b9d23bb5",
            "value": "Downloading model.safetensors: 100%"
          }
        },
        "c43b5cf2f6554656bf0107cd4bb456c1": {
          "model_module": "@jupyter-widgets/controls",
          "model_name": "FloatProgressModel",
          "model_module_version": "1.5.0",
          "state": {
            "_dom_classes": [],
            "_model_module": "@jupyter-widgets/controls",
            "_model_module_version": "1.5.0",
            "_model_name": "FloatProgressModel",
            "_view_count": null,
            "_view_module": "@jupyter-widgets/controls",
            "_view_module_version": "1.5.0",
            "_view_name": "ProgressView",
            "bar_style": "success",
            "description": "",
            "description_tooltip": null,
            "layout": "IPY_MODEL_d514ded9ea8e41f5b64b207e162863bd",
            "max": 267954768,
            "min": 0,
            "orientation": "horizontal",
            "style": "IPY_MODEL_e7513dcb59374478b12eabd3ffa8c705",
            "value": 267954768
          }
        },
        "ad9e1df189e146338eab7ee6e9d01f01": {
          "model_module": "@jupyter-widgets/controls",
          "model_name": "HTMLModel",
          "model_module_version": "1.5.0",
          "state": {
            "_dom_classes": [],
            "_model_module": "@jupyter-widgets/controls",
            "_model_module_version": "1.5.0",
            "_model_name": "HTMLModel",
            "_view_count": null,
            "_view_module": "@jupyter-widgets/controls",
            "_view_module_version": "1.5.0",
            "_view_name": "HTMLView",
            "description": "",
            "description_tooltip": null,
            "layout": "IPY_MODEL_f7df246c99504482895c27c4300480b0",
            "placeholder": "​",
            "style": "IPY_MODEL_a5788cb893914088ad51b6826b6fb339",
            "value": " 268M/268M [00:01&lt;00:00, 215MB/s]"
          }
        },
        "ac2fa42b94174922a81a0a0808973a48": {
          "model_module": "@jupyter-widgets/base",
          "model_name": "LayoutModel",
          "model_module_version": "1.2.0",
          "state": {
            "_model_module": "@jupyter-widgets/base",
            "_model_module_version": "1.2.0",
            "_model_name": "LayoutModel",
            "_view_count": null,
            "_view_module": "@jupyter-widgets/base",
            "_view_module_version": "1.2.0",
            "_view_name": "LayoutView",
            "align_content": null,
            "align_items": null,
            "align_self": null,
            "border": null,
            "bottom": null,
            "display": null,
            "flex": null,
            "flex_flow": null,
            "grid_area": null,
            "grid_auto_columns": null,
            "grid_auto_flow": null,
            "grid_auto_rows": null,
            "grid_column": null,
            "grid_gap": null,
            "grid_row": null,
            "grid_template_areas": null,
            "grid_template_columns": null,
            "grid_template_rows": null,
            "height": null,
            "justify_content": null,
            "justify_items": null,
            "left": null,
            "margin": null,
            "max_height": null,
            "max_width": null,
            "min_height": null,
            "min_width": null,
            "object_fit": null,
            "object_position": null,
            "order": null,
            "overflow": null,
            "overflow_x": null,
            "overflow_y": null,
            "padding": null,
            "right": null,
            "top": null,
            "visibility": null,
            "width": null
          }
        },
        "9faa874396694a78a9b5724ef9e1ed41": {
          "model_module": "@jupyter-widgets/base",
          "model_name": "LayoutModel",
          "model_module_version": "1.2.0",
          "state": {
            "_model_module": "@jupyter-widgets/base",
            "_model_module_version": "1.2.0",
            "_model_name": "LayoutModel",
            "_view_count": null,
            "_view_module": "@jupyter-widgets/base",
            "_view_module_version": "1.2.0",
            "_view_name": "LayoutView",
            "align_content": null,
            "align_items": null,
            "align_self": null,
            "border": null,
            "bottom": null,
            "display": null,
            "flex": null,
            "flex_flow": null,
            "grid_area": null,
            "grid_auto_columns": null,
            "grid_auto_flow": null,
            "grid_auto_rows": null,
            "grid_column": null,
            "grid_gap": null,
            "grid_row": null,
            "grid_template_areas": null,
            "grid_template_columns": null,
            "grid_template_rows": null,
            "height": null,
            "justify_content": null,
            "justify_items": null,
            "left": null,
            "margin": null,
            "max_height": null,
            "max_width": null,
            "min_height": null,
            "min_width": null,
            "object_fit": null,
            "object_position": null,
            "order": null,
            "overflow": null,
            "overflow_x": null,
            "overflow_y": null,
            "padding": null,
            "right": null,
            "top": null,
            "visibility": null,
            "width": null
          }
        },
        "1c688ad249ce479fbfd180b8b9d23bb5": {
          "model_module": "@jupyter-widgets/controls",
          "model_name": "DescriptionStyleModel",
          "model_module_version": "1.5.0",
          "state": {
            "_model_module": "@jupyter-widgets/controls",
            "_model_module_version": "1.5.0",
            "_model_name": "DescriptionStyleModel",
            "_view_count": null,
            "_view_module": "@jupyter-widgets/base",
            "_view_module_version": "1.2.0",
            "_view_name": "StyleView",
            "description_width": ""
          }
        },
        "d514ded9ea8e41f5b64b207e162863bd": {
          "model_module": "@jupyter-widgets/base",
          "model_name": "LayoutModel",
          "model_module_version": "1.2.0",
          "state": {
            "_model_module": "@jupyter-widgets/base",
            "_model_module_version": "1.2.0",
            "_model_name": "LayoutModel",
            "_view_count": null,
            "_view_module": "@jupyter-widgets/base",
            "_view_module_version": "1.2.0",
            "_view_name": "LayoutView",
            "align_content": null,
            "align_items": null,
            "align_self": null,
            "border": null,
            "bottom": null,
            "display": null,
            "flex": null,
            "flex_flow": null,
            "grid_area": null,
            "grid_auto_columns": null,
            "grid_auto_flow": null,
            "grid_auto_rows": null,
            "grid_column": null,
            "grid_gap": null,
            "grid_row": null,
            "grid_template_areas": null,
            "grid_template_columns": null,
            "grid_template_rows": null,
            "height": null,
            "justify_content": null,
            "justify_items": null,
            "left": null,
            "margin": null,
            "max_height": null,
            "max_width": null,
            "min_height": null,
            "min_width": null,
            "object_fit": null,
            "object_position": null,
            "order": null,
            "overflow": null,
            "overflow_x": null,
            "overflow_y": null,
            "padding": null,
            "right": null,
            "top": null,
            "visibility": null,
            "width": null
          }
        },
        "e7513dcb59374478b12eabd3ffa8c705": {
          "model_module": "@jupyter-widgets/controls",
          "model_name": "ProgressStyleModel",
          "model_module_version": "1.5.0",
          "state": {
            "_model_module": "@jupyter-widgets/controls",
            "_model_module_version": "1.5.0",
            "_model_name": "ProgressStyleModel",
            "_view_count": null,
            "_view_module": "@jupyter-widgets/base",
            "_view_module_version": "1.2.0",
            "_view_name": "StyleView",
            "bar_color": null,
            "description_width": ""
          }
        },
        "f7df246c99504482895c27c4300480b0": {
          "model_module": "@jupyter-widgets/base",
          "model_name": "LayoutModel",
          "model_module_version": "1.2.0",
          "state": {
            "_model_module": "@jupyter-widgets/base",
            "_model_module_version": "1.2.0",
            "_model_name": "LayoutModel",
            "_view_count": null,
            "_view_module": "@jupyter-widgets/base",
            "_view_module_version": "1.2.0",
            "_view_name": "LayoutView",
            "align_content": null,
            "align_items": null,
            "align_self": null,
            "border": null,
            "bottom": null,
            "display": null,
            "flex": null,
            "flex_flow": null,
            "grid_area": null,
            "grid_auto_columns": null,
            "grid_auto_flow": null,
            "grid_auto_rows": null,
            "grid_column": null,
            "grid_gap": null,
            "grid_row": null,
            "grid_template_areas": null,
            "grid_template_columns": null,
            "grid_template_rows": null,
            "height": null,
            "justify_content": null,
            "justify_items": null,
            "left": null,
            "margin": null,
            "max_height": null,
            "max_width": null,
            "min_height": null,
            "min_width": null,
            "object_fit": null,
            "object_position": null,
            "order": null,
            "overflow": null,
            "overflow_x": null,
            "overflow_y": null,
            "padding": null,
            "right": null,
            "top": null,
            "visibility": null,
            "width": null
          }
        },
        "a5788cb893914088ad51b6826b6fb339": {
          "model_module": "@jupyter-widgets/controls",
          "model_name": "DescriptionStyleModel",
          "model_module_version": "1.5.0",
          "state": {
            "_model_module": "@jupyter-widgets/controls",
            "_model_module_version": "1.5.0",
            "_model_name": "DescriptionStyleModel",
            "_view_count": null,
            "_view_module": "@jupyter-widgets/base",
            "_view_module_version": "1.2.0",
            "_view_name": "StyleView",
            "description_width": ""
          }
        }
      }
    }
  },
  "cells": [
    {
      "cell_type": "markdown",
      "source": [
        "За бенчмарк был взят SentEval (к сожалению поздно нашел что есть SetnRvalRu, взял бы его раз уж диплом про русский енкодер). Взял word2vec, bert, sentenceTransformer и решил сравнить их между собой по тому какой коэффицент Pearson они выдают для датасетов из SentEval. Для проверки был взят semantic textual similarity STS16. Поскольку будем использовать коэффициент корреляции Person, то нулевую гипотезу можно выдвинуть такую:\n",
        "\n",
        "$H_0$: два набора эмбеддингов не коррелируют между собой.\n",
        "То есть наша модель выдает плохие эмбеддинги которые не похожи на те с которыми сверяем.\n",
        "\n",
        "$H_1:$ иначе.\n",
        "\n"
      ],
      "metadata": {
        "id": "YPGUAxBPXrkX"
      }
    },
    {
      "cell_type": "code",
      "execution_count": null,
      "metadata": {
        "id": "Wyy_UX4crWyW"
      },
      "outputs": [],
      "source": [
        "!pip install git+https://github.com/facebookresearch/SentEval.git\n",
        "!pip install transformers"
      ]
    },
    {
      "cell_type": "code",
      "source": [
        "!git clone https://github.com/facebookresearch/SentEval.git\n",
        "!cd SentEval/data/downstream && ./get_transfer_data.bash"
      ],
      "metadata": {
        "id": "DnNXIX_3tP9V"
      },
      "execution_count": null,
      "outputs": []
    },
    {
      "cell_type": "code",
      "source": [
        "!pip install -U sentence-transformers"
      ],
      "metadata": {
        "id": "Ve7xOUtbKx5e"
      },
      "execution_count": null,
      "outputs": []
    },
    {
      "cell_type": "code",
      "source": [
        "import numpy as np\n",
        "import torch\n",
        "import senteval"
      ],
      "metadata": {
        "id": "DhxZfwec_1yy"
      },
      "execution_count": 2,
      "outputs": []
    },
    {
      "cell_type": "code",
      "source": [
        "import gensim.downloader as api\n",
        "\n",
        "word2vec = api.load(\"word2vec-google-news-300\")"
      ],
      "metadata": {
        "colab": {
          "base_uri": "https://localhost:8080/"
        },
        "id": "mwYo7wH2zefR",
        "outputId": "e8f30c21-657b-4961-99c4-4643d666963f"
      },
      "execution_count": 3,
      "outputs": [
        {
          "output_type": "stream",
          "name": "stdout",
          "text": [
            "[==================================================] 100.0% 1662.8/1662.8MB downloaded\n"
          ]
        }
      ]
    },
    {
      "cell_type": "markdown",
      "source": [
        "Решил взять небольшого берта чтобы недолго вычислялось"
      ],
      "metadata": {
        "id": "J_wdRCNEdtkh"
      }
    },
    {
      "cell_type": "markdown",
      "source": [],
      "metadata": {
        "id": "jfKT65eId1GJ"
      }
    },
    {
      "cell_type": "code",
      "source": [
        "from transformers import DistilBertTokenizer, DistilBertModel\n",
        "\n",
        "tokenizer = DistilBertTokenizer.from_pretrained('distilbert-base-uncased')\n",
        "bert_model = DistilBertModel.from_pretrained('distilbert-base-uncased')\n"
      ],
      "metadata": {
        "colab": {
          "base_uri": "https://localhost:8080/",
          "height": 145,
          "referenced_widgets": [
            "67d832bdb6b0432396095340513baafa",
            "de117fe0b4a74d748113536bf9fd3b0e",
            "537e377959aa4bb3bedd63b8770e2c95",
            "2d64ca70518f4d0d8bc92ac96672c4d1",
            "de175855749f4577b8d00854fe7d18fa",
            "dfc3eb303e2540f0afd87a9aa300410c",
            "7e2f1cd64df340a2b0ef847ca5bd1276",
            "158bd3dbcc2945f2956a51d48ef2361d",
            "34bdab3e5f0d4784af0a5d74a233f6ff",
            "5b4820f34a8140e38caf4f91fd37ddbc",
            "84e36423451049e7a3b7106a64b00280",
            "96bb561c4d4c45fba6b3ed0fcca0fd0f",
            "d2ce3871148449a498ba74332f17d0d8",
            "3975e9c18cb04e28bf3e4aa91072268e",
            "7e925891178c48eeab5608b040fc14a7",
            "eee67953840f479f8e735af31bacc2c6",
            "7d36f557936642e4b2ca00e9f8a18cb8",
            "26631c3fcf344067925da60b635c8878",
            "d963e18a8eda4a1ba199d129097e9faf",
            "33525aa6b449421ba3762a29b6d75784",
            "a3881aa1c3f64f6aa2a617a51edcee15",
            "47e482c7707f492385e5514480087574",
            "abdff0f4ceed41bb946791dd05cf0587",
            "6c102be960fa43059fb02c1adaec6994",
            "82a1661345ae46d18eecf6a01193cb82",
            "ac3a434ecc9740e0bd495cca3bc0376e",
            "6b860fbe45a145778caab22f87406c2a",
            "8568b5557fed4e55b9ef132c1915afc0",
            "7f3af8edb35e45caa17d9ebc21ad062f",
            "8b0503c958e2412b8abdcb7d49178984",
            "b7e6a00be2864e4cb26cc2d322b939dd",
            "4400d2c9e6f3463b91f43c2c540269ea",
            "48e8dee75f1b4e1a9aceb105d966841d",
            "09409ecc39f843d5b00a170f7461db00",
            "fb3c513762e24b7091017ac40f916a41",
            "c43b5cf2f6554656bf0107cd4bb456c1",
            "ad9e1df189e146338eab7ee6e9d01f01",
            "ac2fa42b94174922a81a0a0808973a48",
            "9faa874396694a78a9b5724ef9e1ed41",
            "1c688ad249ce479fbfd180b8b9d23bb5",
            "d514ded9ea8e41f5b64b207e162863bd",
            "e7513dcb59374478b12eabd3ffa8c705",
            "f7df246c99504482895c27c4300480b0",
            "a5788cb893914088ad51b6826b6fb339"
          ]
        },
        "id": "t9H19ikL_fJh",
        "outputId": "9316bf05-cbcf-40ef-ae44-b2e15fed3019"
      },
      "execution_count": 16,
      "outputs": [
        {
          "output_type": "display_data",
          "data": {
            "text/plain": [
              "Downloading (…)solve/main/vocab.txt:   0%|          | 0.00/232k [00:00<?, ?B/s]"
            ],
            "application/vnd.jupyter.widget-view+json": {
              "version_major": 2,
              "version_minor": 0,
              "model_id": "67d832bdb6b0432396095340513baafa"
            }
          },
          "metadata": {}
        },
        {
          "output_type": "display_data",
          "data": {
            "text/plain": [
              "Downloading (…)okenizer_config.json:   0%|          | 0.00/28.0 [00:00<?, ?B/s]"
            ],
            "application/vnd.jupyter.widget-view+json": {
              "version_major": 2,
              "version_minor": 0,
              "model_id": "96bb561c4d4c45fba6b3ed0fcca0fd0f"
            }
          },
          "metadata": {}
        },
        {
          "output_type": "display_data",
          "data": {
            "text/plain": [
              "Downloading (…)lve/main/config.json:   0%|          | 0.00/483 [00:00<?, ?B/s]"
            ],
            "application/vnd.jupyter.widget-view+json": {
              "version_major": 2,
              "version_minor": 0,
              "model_id": "abdff0f4ceed41bb946791dd05cf0587"
            }
          },
          "metadata": {}
        },
        {
          "output_type": "display_data",
          "data": {
            "text/plain": [
              "Downloading model.safetensors:   0%|          | 0.00/268M [00:00<?, ?B/s]"
            ],
            "application/vnd.jupyter.widget-view+json": {
              "version_major": 2,
              "version_minor": 0,
              "model_id": "09409ecc39f843d5b00a170f7461db00"
            }
          },
          "metadata": {}
        }
      ]
    },
    {
      "cell_type": "code",
      "source": [],
      "metadata": {
        "id": "vAi0S_jpd5Zz"
      },
      "execution_count": null,
      "outputs": []
    },
    {
      "cell_type": "code",
      "source": [
        "from sentence_transformers import SentenceTransformer\n",
        "\n",
        "sent_trans_model = SentenceTransformer('paraphrase-MiniLM-L6-v2')\n"
      ],
      "metadata": {
        "id": "wPcvi5RNJ0gO"
      },
      "execution_count": 21,
      "outputs": []
    },
    {
      "cell_type": "code",
      "source": [
        "def prepare(params, samples):\n",
        "    pass\n",
        "\n",
        "def w2v_batcher(params, batch):\n",
        "    embeddings = []\n",
        "\n",
        "    for sent in batch:\n",
        "        sent_vecs = [word2vec[word] for word in sent if word in word2vec]\n",
        "        if not sent_vecs:\n",
        "            vec = np.zeros(300)  # размерность Word2Vec из Google News\n",
        "        else:\n",
        "            vec = np.mean(sent_vecs, axis=0)\n",
        "        embeddings.append(vec)\n",
        "\n",
        "    return np.vstack(embeddings)\n",
        "\n",
        "\n",
        "def bert_batcher(params, batch):\n",
        "    embeddings = []\n",
        "    for sent in batch:\n",
        "        inputs = tokenizer(' '.join(sent), return_tensors='pt', padding='max_length', max_length=64, truncation=True)\n",
        "        with torch.no_grad():\n",
        "            outputs = bert_model(**inputs)\n",
        "        vec = outputs['last_hidden_state'][:, 0, :].squeeze().numpy()\n",
        "        embeddings.append(vec)\n",
        "    return np.vstack(embeddings)\n",
        "\n",
        "def sf_batcher(params, batch):\n",
        "  sentences = [' '.join(s) for s in batch]\n",
        "  embeddings = sent_trans_model.encode(sentences)\n",
        "  return embeddings\n"
      ],
      "metadata": {
        "id": "9U2HN-Lsz24h"
      },
      "execution_count": 4,
      "outputs": []
    },
    {
      "cell_type": "markdown",
      "source": [
        "Опять де для быстроты вычислений брал только один STS16, так не очень полная картина. но добавить эти вычисления в уже готовый пайплайн неслоэно."
      ],
      "metadata": {
        "id": "7A3Q25fIeEC3"
      }
    },
    {
      "cell_type": "code",
      "source": [
        "def evaluate_senteval_all(batcher):\n",
        "    params = {\n",
        "        'task_path': './SentEval/data/',\n",
        "        'usepytorch': True,\n",
        "        'kfold': 5\n",
        "    }\n",
        "    # params['classifier'] = {'nhid': 0, 'optim': 'rmsprop', 'batch_size': 256, 'tenacity': 3, 'epoch_size': 2}\n",
        "    params['classifier'] = {'nhid': 0, 'optim': 'adam', 'batch_size': 128, 'tenacity': 5, 'epoch_size': 4}\n",
        "\n",
        "    se = senteval.engine.SE(params, batcher, prepare)\n",
        "    transfer_tasks = ['STS16']\n",
        "    results = []\n",
        "    for t in transfer_tasks:\n",
        "      results.append((t, se.eval(t)))\n",
        "    return results"
      ],
      "metadata": {
        "id": "-zFD9hB71nzk"
      },
      "execution_count": 12,
      "outputs": []
    },
    {
      "cell_type": "code",
      "source": [
        "answer = []\n",
        "for batcher in [w2v_batcher, bert_batcher, sf_batcher]:\n",
        "  res = evaluate_senteval_all(batcher)\n",
        "  answer.append(res)"
      ],
      "metadata": {
        "colab": {
          "base_uri": "https://localhost:8080/"
        },
        "id": "j7gGcvWFQHme",
        "outputId": "34f4aefe-4161-42be-f2e6-03698fd4aefb"
      },
      "execution_count": 22,
      "outputs": [
        {
          "output_type": "stream",
          "name": "stderr",
          "text": [
            "/usr/local/lib/python3.10/dist-packages/senteval/sts.py:42: VisibleDeprecationWarning: Creating an ndarray from ragged nested sequences (which is a list-or-tuple of lists-or-tuples-or ndarrays with different lengths or shapes) is deprecated. If you meant to do this, you must specify 'dtype=object' when creating the ndarray.\n",
            "  sent1 = np.array([s.split() for s in sent1])[not_empty_idx]\n",
            "/usr/local/lib/python3.10/dist-packages/senteval/sts.py:43: VisibleDeprecationWarning: Creating an ndarray from ragged nested sequences (which is a list-or-tuple of lists-or-tuples-or ndarrays with different lengths or shapes) is deprecated. If you meant to do this, you must specify 'dtype=object' when creating the ndarray.\n",
            "  sent2 = np.array([s.split() for s in sent2])[not_empty_idx]\n"
          ]
        }
      ]
    },
    {
      "cell_type": "code",
      "source": [
        "for a in answer:\n",
        "  print(a[0][0], a[0][1]['all'])"
      ],
      "metadata": {
        "colab": {
          "base_uri": "https://localhost:8080/"
        },
        "id": "z4KOmnXreZxJ",
        "outputId": "c97a7894-f627-4484-d821-aef1cecad8f5"
      },
      "execution_count": 27,
      "outputs": [
        {
          "output_type": "stream",
          "name": "stdout",
          "text": [
            "STS16 {'pearson': {'mean': 0.6452153625976156, 'wmean': 0.6423912641208951}, 'spearman': {'mean': 0.6628367265439031, 'wmean': 0.6603904415819786}}\n",
            "STS16 {'pearson': {'mean': 0.5309356966949423, 'wmean': 0.5354579021823227}, 'spearman': {'mean': 0.5796140222498292, 'wmean': 0.5850813434614706}}\n",
            "STS16 {'pearson': {'mean': 0.8071611961850509, 'wmean': 0.807255050758997}, 'spearman': {'mean': 0.8212384835354316, 'wmean': 0.8211078325335494}}\n"
          ]
        }
      ]
    },
    {
      "cell_type": "markdown",
      "source": [
        "Для наглядности будем брать $\\textit{all}$. Если коэффицент Pearson высок (близок к 1), это значит, что эмбеддинги хорошо передают семантическую информацию, наши эмбеддинги ближе к тем с которыми сравниваем.\n",
        "Так же смотрим на p-value. Если оно меньше крит уровня значимости, то отвергаем нулевую гипотезу. Такми образом, мы получили некий пайплайн для сравнения качества эмбеддингов разных моделей."
      ],
      "metadata": {
        "id": "FiLVz-HVbGXr"
      }
    },
    {
      "cell_type": "code",
      "source": [
        "for a in answer:\n",
        "  print(a[0][0], a[0][1])"
      ],
      "metadata": {
        "colab": {
          "base_uri": "https://localhost:8080/"
        },
        "id": "ekMx3DTeczKU",
        "outputId": "29fbff8e-62b0-44ef-9d24-45d8ece02481"
      },
      "execution_count": 23,
      "outputs": [
        {
          "output_type": "stream",
          "name": "stdout",
          "text": [
            "STS16 {'answer-answer': {'pearson': PearsonRResult(statistic=0.43059116806902975, pvalue=6.885515435191658e-13), 'spearman': SignificanceResult(statistic=0.4438652153790475, pvalue=1.0962068061221027e-13), 'nsamples': 254}, 'headlines': {'pearson': PearsonRResult(statistic=0.666399952223126, pvalue=2.440174144879004e-33), 'spearman': SignificanceResult(statistic=0.6787408818306457, pvalue=5.669724531092987e-35), 'nsamples': 249}, 'plagiarism': {'pearson': PearsonRResult(statistic=0.7581914618856052, pvalue=3.123496312156598e-44), 'spearman': SignificanceResult(statistic=0.7527228654254128, pvalue=2.8229994656064166e-43), 'nsamples': 230}, 'postediting': {'pearson': PearsonRResult(statistic=0.7334675423212708, pvalue=1.8503390387515724e-42), 'spearman': SignificanceResult(statistic=0.7893695525323239, pvalue=3.4197764021697353e-53), 'nsamples': 244}, 'question-question': {'pearson': PearsonRResult(statistic=0.6374266884890456, pvalue=3.1567224867796926e-25), 'spearman': SignificanceResult(statistic=0.6494851175520855, pvalue=1.9986477063904525e-26), 'nsamples': 209}, 'all': {'pearson': {'mean': 0.6452153625976156, 'wmean': 0.6423912641208951}, 'spearman': {'mean': 0.6628367265439031, 'wmean': 0.6603904415819786}}}\n",
            "STS16 {'answer-answer': {'pearson': PearsonRResult(statistic=0.4503558541859313, pvalue=4.3336251634170464e-14), 'spearman': SignificanceResult(statistic=0.5391124349667559, pvalue=1.4930833053740362e-20), 'nsamples': 254}, 'headlines': {'pearson': PearsonRResult(statistic=0.60979086143867, pvalue=9.513362494888352e-27), 'spearman': SignificanceResult(statistic=0.6180392760915386, pvalue=1.261296530971107e-27), 'nsamples': 249}, 'plagiarism': {'pearson': PearsonRResult(statistic=0.6695843759123176, pvalue=2.78392633111782e-31), 'spearman': SignificanceResult(statistic=0.7062991067695045, pvalue=4.6464373844290184e-36), 'nsamples': 230}, 'postediting': {'pearson': PearsonRResult(statistic=0.6144671186270768, pvalue=1.0073130806124481e-26), 'spearman': SignificanceResult(statistic=0.6970259495687883, pvalue=8.069281242279582e-37), 'nsamples': 244}, 'question-question': {'pearson': PearsonRResult(statistic=0.31048027331071537, pvalue=4.757226871768843e-06), 'spearman': SignificanceResult(statistic=0.3375933438525583, pvalue=5.769018928467889e-07), 'nsamples': 209}, 'all': {'pearson': {'mean': 0.5309356966949423, 'wmean': 0.5354579021823227}, 'spearman': {'mean': 0.5796140222498292, 'wmean': 0.5850813434614706}}}\n",
            "STS16 {'answer-answer': {'pearson': PearsonRResult(statistic=0.7672286081541339, pvalue=1.6095769660115694e-50), 'spearman': SignificanceResult(statistic=0.7777575166183779, pvalue=9.84022895861637e-53), 'nsamples': 254}, 'headlines': {'pearson': PearsonRResult(statistic=0.7915718923593656, pvalue=9.35746571207038e-55), 'spearman': SignificanceResult(statistic=0.8011402411998433, pvalue=5.384415093492367e-57), 'nsamples': 249}, 'plagiarism': {'pearson': PearsonRResult(statistic=0.8409965547987137, pvalue=9.403907401519633e-63), 'spearman': SignificanceResult(statistic=0.8549086466887134, pvalue=6.394206699774616e-67), 'nsamples': 230}, 'postediting': {'pearson': PearsonRResult(statistic=0.8591985564202432, pvalue=2.2117695841748446e-72), 'spearman': SignificanceResult(statistic=0.875482703256562, pvalue=2.169041631470205e-78), 'nsamples': 244}, 'question-question': {'pearson': PearsonRResult(statistic=0.7768103691927984, pvalue=1.893967111689922e-43), 'spearman': SignificanceResult(statistic=0.7969033099136617, pvalue=3.3993078294681736e-47), 'nsamples': 209}, 'all': {'pearson': {'mean': 0.8071611961850509, 'wmean': 0.807255050758997}, 'spearman': {'mean': 0.8212384835354316, 'wmean': 0.8211078325335494}}}\n"
          ]
        }
      ]
    },
    {
      "cell_type": "markdown",
      "source": [
        "Как можно видеть для всех задач у нас очень маленькое p-value, для SentenceTransformer оно наименьшее, а коэффициент корреляции наибольший."
      ],
      "metadata": {
        "id": "zqgGU0iBdipz"
      }
    }
  ]
}